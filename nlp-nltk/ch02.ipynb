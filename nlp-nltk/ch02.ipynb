{
 "cells": [
  {
   "cell_type": "code",
   "execution_count": 1,
   "id": "f7f5b2d7-3695-4764-a644-f29f4b4c6d62",
   "metadata": {},
   "outputs": [
    {
     "name": "stdout",
     "output_type": "stream",
     "text": [
      "*** Introductory Examples for the NLTK Book ***\n",
      "Loading text1, ..., text9 and sent1, ..., sent9\n",
      "Type the name of the text or sentence to view it.\n",
      "Type: 'texts()' or 'sents()' to list the materials.\n",
      "text1: Moby Dick by Herman Melville 1851\n",
      "text2: Sense and Sensibility by Jane Austen 1811\n",
      "text3: The Book of Genesis\n",
      "text4: Inaugural Address Corpus\n",
      "text5: Chat Corpus\n",
      "text6: Monty Python and the Holy Grail\n",
      "text7: Wall Street Journal\n",
      "text8: Personals Corpus\n",
      "text9: The Man Who Was Thursday by G . K . Chesterton 1908\n"
     ]
    }
   ],
   "source": [
    "# ch 02\n",
    "# 1 Accessing text corpora\n",
    "## recap\n",
    "from nltk.book import *"
   ]
  },
  {
   "cell_type": "code",
   "execution_count": 2,
   "id": "9a4b9847-8620-4828-93cf-2abfd60509e7",
   "metadata": {},
   "outputs": [
    {
     "data": {
      "text/plain": [
       "<Text: Inaugural Address Corpus>"
      ]
     },
     "execution_count": 2,
     "metadata": {},
     "output_type": "execute_result"
    }
   ],
   "source": [
    "text4"
   ]
  },
  {
   "cell_type": "code",
   "execution_count": 4,
   "id": "efa39271-b929-4318-9814-36da406b0d54",
   "metadata": {},
   "outputs": [
    {
     "data": {
      "text/plain": [
       "['Fellow',\n",
       " '-',\n",
       " 'Citizens',\n",
       " 'of',\n",
       " 'the',\n",
       " 'Senate',\n",
       " 'and',\n",
       " 'of',\n",
       " 'the',\n",
       " 'House',\n",
       " 'of',\n",
       " 'Representatives',\n",
       " ':']"
      ]
     },
     "execution_count": 4,
     "metadata": {},
     "output_type": "execute_result"
    }
   ],
   "source": [
    "sent4"
   ]
  },
  {
   "cell_type": "code",
   "execution_count": 5,
   "id": "433d5ef7-dd53-4f6d-8032-72dbd0df2f35",
   "metadata": {},
   "outputs": [
    {
     "data": {
      "image/png": "[encoded data removed]",
      "text/plain": [
       "<Figure size 640x480 with 1 Axes>"
      ]
     },
     "metadata": {},
     "output_type": "display_data"
    }
   ],
   "source": [
    "text4.dispersion_plot([\"Fellow\", \"Senate\", \"Freedom\", \"freedom\"])"
   ]
  },
  {
   "cell_type": "code",
   "execution_count": 9,
   "id": "f9cca2d9-ed8c-4706-ba18-7ee217146762",
   "metadata": {},
   "outputs": [
    {
     "data": {
      "text/plain": [
       "['austen-emma.txt',\n",
       " 'austen-persuasion.txt',\n",
       " 'austen-sense.txt',\n",
       " 'bible-kjv.txt',\n",
       " 'blake-poems.txt',\n",
       " 'bryant-stories.txt',\n",
       " 'burgess-busterbrown.txt',\n",
       " 'carroll-alice.txt',\n",
       " 'chesterton-ball.txt',\n",
       " 'chesterton-brown.txt',\n",
       " 'chesterton-thursday.txt',\n",
       " 'edgeworth-parents.txt',\n",
       " 'melville-moby_dick.txt',\n",
       " 'milton-paradise.txt',\n",
       " 'shakespeare-caesar.txt',\n",
       " 'shakespeare-hamlet.txt',\n",
       " 'shakespeare-macbeth.txt',\n",
       " 'whitman-leaves.txt']"
      ]
     },
     "execution_count": 9,
     "metadata": {},
     "output_type": "execute_result"
    }
   ],
   "source": [
    "# 1.1 Gutenberg corpus\n",
    "\n",
    "import nltk\n",
    "nltk.corpus.gutenberg.fileids()"
   ]
  },
  {
   "cell_type": "code",
   "execution_count": 11,
   "id": "ec2cbe7b-6a65-492b-af73-c39dc301fe03",
   "metadata": {},
   "outputs": [
    {
     "data": {
      "text/plain": [
       "18"
      ]
     },
     "execution_count": 11,
     "metadata": {},
     "output_type": "execute_result"
    }
   ],
   "source": [
    "len(nltk.corpus.gutenberg.fileids())"
   ]
  },
  {
   "cell_type": "code",
   "execution_count": 13,
   "id": "96302cfa-f265-4221-ad0d-a06565a3e73c",
   "metadata": {},
   "outputs": [
    {
     "data": {
      "text/plain": [
       "192427"
      ]
     },
     "execution_count": 13,
     "metadata": {},
     "output_type": "execute_result"
    }
   ],
   "source": [
    "emma = nltk.corpus.gutenberg.words('austen-emma.txt')\n",
    "len(emma)"
   ]
  },
  {
   "cell_type": "code",
   "execution_count": 17,
   "id": "8130220b-a48c-4df9-ab2f-412848f7e1ea",
   "metadata": {},
   "outputs": [
    {
     "name": "stdout",
     "output_type": "stream",
     "text": [
      "Displaying 25 of 37 matches:\n",
      "er father , was sometimes taken by surprize at his being still able to pity ` \n",
      "hem do the other any good .\" \" You surprize me ! Emma must do Harriet good : a\n",
      "Knightley actually looked red with surprize and displeasure , as he stood up ,\n",
      "r . Elton , and found to his great surprize , that Mr . Elton was actually on \n",
      "d aid .\" Emma saw Mrs . Weston ' s surprize , and felt that it must be great ,\n",
      "father was quite taken up with the surprize of so sudden a journey , and his f\n",
      "y , in all the favouring warmth of surprize and conjecture . She was , moreove\n",
      "he appeared , to have her share of surprize , introduction , and pleasure . Th\n",
      "ir plans ; and it was an agreeable surprize to her , therefore , to perceive t\n",
      "talking aunt had taken me quite by surprize , it must have been the death of m\n",
      "f all the dialogue which ensued of surprize , and inquiry , and congratulation\n",
      " the present . They might chuse to surprize her .\" Mrs . Cole had many to agre\n",
      "the mode of it , the mystery , the surprize , is more like a young woman ' s s\n",
      " to her song took her agreeably by surprize -- a second , slightly but correct\n",
      "\" \" Oh ! no -- there is nothing to surprize one at all .-- A pretty fortune ; \n",
      "t to be considered . Emma ' s only surprize was that Jane Fairfax should accep\n",
      "of your admiration may take you by surprize some day or other .\" Mr . Knightle\n",
      "ation for her will ever take me by surprize .-- I never had a thought of her i\n",
      " expected by the best judges , for surprize -- but there was great joy . Mr . \n",
      " sound of at first , without great surprize . \" So unreasonably early !\" she w\n",
      "d Frank Churchill , with a look of surprize and displeasure .-- \" That is easy\n",
      "; and Emma could imagine with what surprize and mortification she must be retu\n",
      "tled that Jane should go . Quite a surprize to me ! I had not the least idea !\n",
      " . It is impossible to express our surprize . He came to speak to his father o\n",
      "g engaged !\" Emma even jumped with surprize ;-- and , horror - struck , exclai\n"
     ]
    }
   ],
   "source": [
    "# convert corpus to nltk Text\n",
    "emma = nltk.Text(emma)\n",
    "emma.concordance(\"surprize\")"
   ]
  },
  {
   "cell_type": "code",
   "execution_count": 19,
   "id": "2c77946d-acc6-4906-8df6-076261d1cb19",
   "metadata": {},
   "outputs": [
    {
     "data": {
      "text/plain": [
       "['austen-emma.txt',\n",
       " 'austen-persuasion.txt',\n",
       " 'austen-sense.txt',\n",
       " 'bible-kjv.txt',\n",
       " 'blake-poems.txt',\n",
       " 'bryant-stories.txt',\n",
       " 'burgess-busterbrown.txt',\n",
       " 'carroll-alice.txt',\n",
       " 'chesterton-ball.txt',\n",
       " 'chesterton-brown.txt',\n",
       " 'chesterton-thursday.txt',\n",
       " 'edgeworth-parents.txt',\n",
       " 'melville-moby_dick.txt',\n",
       " 'milton-paradise.txt',\n",
       " 'shakespeare-caesar.txt',\n",
       " 'shakespeare-hamlet.txt',\n",
       " 'shakespeare-macbeth.txt',\n",
       " 'whitman-leaves.txt']"
      ]
     },
     "execution_count": 19,
     "metadata": {},
     "output_type": "execute_result"
    }
   ],
   "source": [
    "from nltk.corpus import gutenberg\n",
    "gutenberg.fileids()"
   ]
  },
  {
   "cell_type": "code",
   "execution_count": 38,
   "id": "68c39288-a49a-4967-b734-7180df9ffe0d",
   "metadata": {},
   "outputs": [],
   "source": [
    "emma = gutenberg.words('austen-emma.txt')"
   ]
  },
  {
   "cell_type": "code",
   "execution_count": 22,
   "id": "aae8ef3c-1cba-4512-b256-f358852469c5",
   "metadata": {},
   "outputs": [
    {
     "data": {
      "text/plain": [
       "192427"
      ]
     },
     "execution_count": 22,
     "metadata": {},
     "output_type": "execute_result"
    }
   ],
   "source": [
    "len(emma)"
   ]
  },
  {
   "cell_type": "code",
   "execution_count": 26,
   "id": "65fb9db3-5ce7-4f70-b1c6-50a26b273bdf",
   "metadata": {},
   "outputs": [
    {
     "name": "stdout",
     "output_type": "stream",
     "text": [
      "File:  austen-emma.txt\n",
      "\tcharacters per word (avg) 5\n",
      "\twords per sentence (avg) 25\n",
      "\tword reuse (avg) 26\n",
      "File:  austen-persuasion.txt\n",
      "\tcharacters per word (avg) 5\n",
      "\twords per sentence (avg) 26\n",
      "\tword reuse (avg) 17\n",
      "File:  austen-sense.txt\n",
      "\tcharacters per word (avg) 5\n",
      "\twords per sentence (avg) 28\n",
      "\tword reuse (avg) 22\n",
      "File:  bible-kjv.txt\n",
      "\tcharacters per word (avg) 4\n",
      "\twords per sentence (avg) 34\n",
      "\tword reuse (avg) 79\n",
      "File:  blake-poems.txt\n",
      "\tcharacters per word (avg) 5\n",
      "\twords per sentence (avg) 19\n",
      "\tword reuse (avg) 5\n",
      "File:  bryant-stories.txt\n",
      "\tcharacters per word (avg) 4\n",
      "\twords per sentence (avg) 19\n",
      "\tword reuse (avg) 14\n",
      "File:  burgess-busterbrown.txt\n",
      "\tcharacters per word (avg) 4\n",
      "\twords per sentence (avg) 18\n",
      "\tword reuse (avg) 12\n",
      "File:  carroll-alice.txt\n",
      "\tcharacters per word (avg) 4\n",
      "\twords per sentence (avg) 20\n",
      "\tword reuse (avg) 13\n",
      "File:  chesterton-ball.txt\n",
      "\tcharacters per word (avg) 5\n",
      "\twords per sentence (avg) 20\n",
      "\tword reuse (avg) 12\n",
      "File:  chesterton-brown.txt\n",
      "\tcharacters per word (avg) 5\n",
      "\twords per sentence (avg) 23\n",
      "\tword reuse (avg) 11\n",
      "File:  chesterton-thursday.txt\n",
      "\tcharacters per word (avg) 5\n",
      "\twords per sentence (avg) 18\n",
      "\tword reuse (avg) 11\n",
      "File:  edgeworth-parents.txt\n",
      "\tcharacters per word (avg) 4\n",
      "\twords per sentence (avg) 21\n",
      "\tword reuse (avg) 25\n",
      "File:  melville-moby_dick.txt\n",
      "\tcharacters per word (avg) 5\n",
      "\twords per sentence (avg) 26\n",
      "\tword reuse (avg) 15\n",
      "File:  milton-paradise.txt\n",
      "\tcharacters per word (avg) 5\n",
      "\twords per sentence (avg) 52\n",
      "\tword reuse (avg) 11\n",
      "File:  shakespeare-caesar.txt\n",
      "\tcharacters per word (avg) 4\n",
      "\twords per sentence (avg) 12\n",
      "\tword reuse (avg) 9\n",
      "File:  shakespeare-hamlet.txt\n",
      "\tcharacters per word (avg) 4\n",
      "\twords per sentence (avg) 12\n",
      "\tword reuse (avg) 8\n",
      "File:  shakespeare-macbeth.txt\n",
      "\tcharacters per word (avg) 4\n",
      "\twords per sentence (avg) 12\n",
      "\tword reuse (avg) 7\n",
      "File:  whitman-leaves.txt\n",
      "\tcharacters per word (avg) 5\n",
      "\twords per sentence (avg) 36\n",
      "\tword reuse (avg) 12\n"
     ]
    }
   ],
   "source": [
    "for fileid in gutenberg.fileids():\n",
    "    num_chars = len(gutenberg.raw(fileid))\n",
    "    num_words = len(gutenberg.words(fileid))\n",
    "    num_sents = len(gutenberg.sents(fileid))\n",
    "    num_vocab = len(set(w.lower() for w in gutenberg.words(fileid)))\n",
    "    print(\"File: \", fileid)\n",
    "    print(\"\\tcharacters per word (avg)\", round(num_chars/num_words))\n",
    "    print(\"\\twords per sentence (avg)\", round(num_words/num_sents))\n",
    "    print(\"\\tword reuse (avg)\", round(num_words/num_vocab))\n",
    "    \n",
    "\n",
    "# word reuse is called lexical diversity\n",
    "# if word reuse is high or a big number: repetition, enforcement\n",
    "# if it is low: rich vocabulary, diverse"
   ]
  },
  {
   "cell_type": "code",
   "execution_count": 42,
   "id": "d3a00e4e-56e3-45b4-adc8-0c62f476c197",
   "metadata": {},
   "outputs": [
    {
     "name": "stdout",
     "output_type": "stream",
     "text": [
      "no matches\n"
     ]
    }
   ],
   "source": [
    "# trying and failing\n",
    "s = \"The previous example also showed. how we can access the \\\"raw\\\" text of the book [1], not split up into tokens. The raw() function gives us the contents of the file without any linguistic processing. So, for example, len(gutenberg.raw('blake-poems.txt')) tells us how many letters occur in the text, including the space.\\n Let's try another example.\\nWhat is also this?\\n\"\n",
    "t = nltk.Text(s)\n",
    "t.concordance(\"also\")"
   ]
  },
  {
   "cell_type": "code",
   "execution_count": 43,
   "id": "1bcb3793-711d-4331-a721-fe6eb8d59fb3",
   "metadata": {},
   "outputs": [
    {
     "data": {
      "text/plain": [
       "nltk.corpus.reader.plaintext.PlaintextCorpusReader"
      ]
     },
     "execution_count": 43,
     "metadata": {},
     "output_type": "execute_result"
    }
   ],
   "source": [
    "type(gutenberg)"
   ]
  },
  {
   "cell_type": "code",
   "execution_count": 47,
   "id": "e2b747b1-5fc6-4c58-b731-c72ed12d8a27",
   "metadata": {},
   "outputs": [
    {
     "name": "stdout",
     "output_type": "stream",
     "text": [
      "firefox.txt Cookie Manager: \"Don't allow sites that set removed cookies to se ...\n",
      "grail.txt SCENE 1: [wind] [clop clop clop] \n",
      "KING ARTHUR: Whoa there!  [clop ...\n",
      "overheard.txt White guy: So, do you have any plans for this evening?\n",
      "Asian girl ...\n",
      "pirates.txt PIRATES OF THE CARRIBEAN: DEAD MAN'S CHEST, by Ted Elliott & Terr ...\n",
      "singles.txt 25 SEXY MALE, seeks attrac older single lady, for discreet encoun ...\n",
      "wine.txt Lovely delicate, fragrant Rhone wine. Polished leather and strawb ...\n"
     ]
    }
   ],
   "source": [
    "# 1.2 Web and chat text\n",
    "from nltk.corpus import webtext as wt\n",
    "for f in wt.fileids():\n",
    "    print(f, wt.raw(f)[:65], '...')"
   ]
  },
  {
   "cell_type": "code",
   "execution_count": 48,
   "id": "bd5853fa-59ea-4ad5-9b93-564e85bf4d2b",
   "metadata": {},
   "outputs": [
    {
     "data": {
      "text/plain": [
       "['i',\n",
       " 'do',\n",
       " \"n't\",\n",
       " 'want',\n",
       " 'hot',\n",
       " 'pics',\n",
       " 'of',\n",
       " 'a',\n",
       " 'female',\n",
       " ',',\n",
       " 'I',\n",
       " 'can',\n",
       " 'look',\n",
       " 'in',\n",
       " 'a',\n",
       " 'mirror',\n",
       " '.']"
      ]
     },
     "execution_count": 48,
     "metadata": {},
     "output_type": "execute_result"
    }
   ],
   "source": [
    "from nltk.corpus import nps_chat\n",
    "chatroom = nps_chat.posts(\"10-19-20s_706posts.xml\")\n",
    "chatroom[123]"
   ]
  },
  {
   "cell_type": "code",
   "execution_count": 51,
   "id": "caf6ac86-bfae-46b3-892f-f8766945000d",
   "metadata": {},
   "outputs": [
    {
     "data": {
      "text/plain": [
       "['adventure',\n",
       " 'belles_lettres',\n",
       " 'editorial',\n",
       " 'fiction',\n",
       " 'government',\n",
       " 'hobbies',\n",
       " 'humor',\n",
       " 'learned',\n",
       " 'lore',\n",
       " 'mystery',\n",
       " 'news',\n",
       " 'religion',\n",
       " 'reviews',\n",
       " 'romance',\n",
       " 'science_fiction']"
      ]
     },
     "execution_count": 51,
     "metadata": {},
     "output_type": "execute_result"
    }
   ],
   "source": [
    "# 1.3 Brown corpus\n",
    "\n",
    "#  how to add stuff to a corpus in nltk?\n",
    "# https://stackoverflow.com/questions/4951751/creating-a-new-corpus-with-nltk\n",
    "\n",
    "from nltk.corpus import brown\n",
    "brown.categories()"
   ]
  },
  {
   "cell_type": "code",
   "execution_count": 53,
   "id": "19208b97-d292-49ed-a80d-1b9681128c6b",
   "metadata": {},
   "outputs": [
    {
     "data": {
      "text/plain": [
       "['The', 'Fulton', 'County', 'Grand', 'Jury', 'said', ...]"
      ]
     },
     "execution_count": 53,
     "metadata": {},
     "output_type": "execute_result"
    }
   ],
   "source": [
    "brown.words(categories='news')"
   ]
  },
  {
   "cell_type": "code",
   "execution_count": 55,
   "id": "d925f2cd-9627-43f2-a411-80e9e3f8106e",
   "metadata": {},
   "outputs": [
    {
     "data": {
      "text/plain": [
       "['ca01',\n",
       " 'ca02',\n",
       " 'ca03',\n",
       " 'ca04',\n",
       " 'ca05',\n",
       " 'ca06',\n",
       " 'ca07',\n",
       " 'ca08',\n",
       " 'ca09',\n",
       " 'ca10']"
      ]
     },
     "execution_count": 55,
     "metadata": {},
     "output_type": "execute_result"
    }
   ],
   "source": [
    "brown.fileids()[:10]"
   ]
  },
  {
   "cell_type": "code",
   "execution_count": 57,
   "id": "22386619-be8c-49f9-aeaa-b52342ec3a92",
   "metadata": {},
   "outputs": [
    {
     "data": {
      "text/plain": [
       "['The', 'Fulton', 'County', 'Grand', 'Jury', 'said', ...]"
      ]
     },
     "execution_count": 57,
     "metadata": {},
     "output_type": "execute_result"
    }
   ],
   "source": [
    "brown.words(fileids=[\"ca01\", \"ca10\"])"
   ]
  },
  {
   "cell_type": "code",
   "execution_count": 58,
   "id": "802ab62a-cc89-4f3e-8894-98e499f35620",
   "metadata": {},
   "outputs": [
    {
     "data": {
      "text/plain": [
       "[['The', 'Fulton', 'County', 'Grand', 'Jury', 'said', 'Friday', 'an', 'investigation', 'of', \"Atlanta's\", 'recent', 'primary', 'election', 'produced', '``', 'no', 'evidence', \"''\", 'that', 'any', 'irregularities', 'took', 'place', '.'], ['The', 'jury', 'further', 'said', 'in', 'term-end', 'presentments', 'that', 'the', 'City', 'Executive', 'Committee', ',', 'which', 'had', 'over-all', 'charge', 'of', 'the', 'election', ',', '``', 'deserves', 'the', 'praise', 'and', 'thanks', 'of', 'the', 'City', 'of', 'Atlanta', \"''\", 'for', 'the', 'manner', 'in', 'which', 'the', 'election', 'was', 'conducted', '.'], ...]"
      ]
     },
     "execution_count": 58,
     "metadata": {},
     "output_type": "execute_result"
    }
   ],
   "source": [
    "brown.sents(categories=[\"news\", \"editorial\", \"reviews\"])"
   ]
  },
  {
   "cell_type": "code",
   "execution_count": 62,
   "id": "b655a636-1cd5-4665-b916-e9c2cc254cb0",
   "metadata": {},
   "outputs": [
    {
     "name": "stdout",
     "output_type": "stream",
     "text": [
      "can:\t 94\n",
      "could:\t 87\n",
      "may:\t 93\n",
      "might:\t 38\n",
      "must:\t 53\n",
      "will:\t 389\n",
      "----------------------------------------------------\n",
      "what:\t 95\n",
      "when:\t 169\n",
      "why:\t 14\n",
      "where:\t 59\n",
      "who:\t 268\n",
      "how:\t 42\n"
     ]
    }
   ],
   "source": [
    "from nltk.corpus import brown\n",
    "news_text = brown.words(categories=\"news\")\n",
    "fdist = nltk.FreqDist(w.lower() for w in news_text)\n",
    "modals = [\"can\", \"could\", \"may\", \"might\", \"must\", \"will\"]\n",
    "# ' is easier to type than \"\n",
    "for m in modals:\n",
    "    print(m + \":\\t\", fdist[m])\n",
    "\n",
    "print(\"----------------------------------------------------\")\n",
    "\n",
    "whs = ['what', 'when', 'why', 'where', 'who', 'how']\n",
    "for w in whs:\n",
    "    print(w + \":\\t\", fdist[w])\n"
   ]
  },
  {
   "cell_type": "code",
   "execution_count": 75,
   "id": "81d06425-4b99-43ea-b959-f5dc467aeb5b",
   "metadata": {},
   "outputs": [
    {
     "name": "stdout",
     "output_type": "stream",
     "text": [
      "                   can  could    may  might   must   will  would  shall should \n",
      "           news     93     86     66     38     50    389    244      5     59 \n",
      "       religion     82     59     78     12     54     71     68     21     45 \n",
      "        hobbies    268     58    131     22     83    264     78      5     73 \n",
      "science_fiction     16     49      4     12      8     16     79      3      3 \n",
      "        romance     74    193     11     51     45     43    244      3     32 \n",
      "          humor     16     30      8      8      9     13     56      2      7 \n",
      "      adventure     46    151      5     58     27     50    191      7     15 \n",
      "     government    117     38    153     13    102    244    120     98    112 \n"
     ]
    }
   ],
   "source": [
    "gw_list = [\n",
    "    (genre, word)\n",
    "    for genre in brown.categories()\n",
    "    for word in brown.words(categories=genre)\n",
    "]\n",
    "cfd = nltk.ConditionalFreqDist(gw_list)\n",
    "genres = ['news', 'religion', 'hobbies', 'science_fiction', 'romance', 'humor', 'adventure', 'government']\n",
    "modals = [\"can\", \"could\", \"may\", \"might\", \"must\", \"will\", \"would\", \"shall\", \"should\"]\n",
    "\n",
    "cfd.tabulate(conditions=genres, samples=modals)"
   ]
  },
  {
   "cell_type": "code",
   "execution_count": 72,
   "id": "da7a41a4-36c6-41aa-84c4-30651a160d4e",
   "metadata": {},
   "outputs": [
    {
     "data": {
      "text/plain": [
       "[(0, 100),\n",
       " (0, 101),\n",
       " (0, 102),\n",
       " (1, 100),\n",
       " (1, 101),\n",
       " (1, 102),\n",
       " (2, 100),\n",
       " (2, 101),\n",
       " (2, 102)]"
      ]
     },
     "execution_count": 72,
     "metadata": {},
     "output_type": "execute_result"
    }
   ],
   "source": [
    "# nested looping\n",
    "[(w, f) for w in range(0, 3) for f in range(100, 103)]\n"
   ]
  },
  {
   "cell_type": "code",
   "execution_count": 73,
   "id": "2351b74e-e9c6-476e-a6f0-adb3bc18d470",
   "metadata": {},
   "outputs": [
    {
     "data": {
      "text/plain": [
       "['adventure',\n",
       " 'belles_lettres',\n",
       " 'editorial',\n",
       " 'fiction',\n",
       " 'government',\n",
       " 'hobbies',\n",
       " 'humor',\n",
       " 'learned',\n",
       " 'lore',\n",
       " 'mystery',\n",
       " 'news',\n",
       " 'religion',\n",
       " 'reviews',\n",
       " 'romance',\n",
       " 'science_fiction']"
      ]
     },
     "execution_count": 73,
     "metadata": {},
     "output_type": "execute_result"
    }
   ],
   "source": [
    "brown.categories()"
   ]
  },
  {
   "cell_type": "code",
   "execution_count": 78,
   "id": "a869baaa-f9c3-489c-a185-7aaeb5f3e883",
   "metadata": {},
   "outputs": [
    {
     "data": {
      "text/plain": [
       "['test/14826',\n",
       " 'test/14828',\n",
       " 'test/14829',\n",
       " 'test/14832',\n",
       " 'test/14833',\n",
       " 'test/14839',\n",
       " 'test/14840',\n",
       " 'test/14841',\n",
       " 'test/14842',\n",
       " 'test/14843']"
      ]
     },
     "execution_count": 78,
     "metadata": {},
     "output_type": "execute_result"
    }
   ],
   "source": [
    "# 1.4 Reuters corpus\n",
    "from nltk.corpus import reuters\n",
    "reuters.fileids()[:10]"
   ]
  },
  {
   "cell_type": "code",
   "execution_count": 79,
   "id": "784478ce-7ee5-4e45-b869-9d75e3999d7e",
   "metadata": {},
   "outputs": [
    {
     "data": {
      "text/plain": [
       "['acq',\n",
       " 'alum',\n",
       " 'barley',\n",
       " 'bop',\n",
       " 'carcass',\n",
       " 'castor-oil',\n",
       " 'cocoa',\n",
       " 'coconut',\n",
       " 'coconut-oil',\n",
       " 'coffee',\n",
       " 'copper',\n",
       " 'copra-cake',\n",
       " 'corn',\n",
       " 'cotton',\n",
       " 'cotton-oil',\n",
       " 'cpi',\n",
       " 'cpu',\n",
       " 'crude',\n",
       " 'dfl',\n",
       " 'dlr',\n",
       " 'dmk',\n",
       " 'earn',\n",
       " 'fuel',\n",
       " 'gas',\n",
       " 'gnp',\n",
       " 'gold',\n",
       " 'grain',\n",
       " 'groundnut',\n",
       " 'groundnut-oil',\n",
       " 'heat',\n",
       " 'hog',\n",
       " 'housing',\n",
       " 'income',\n",
       " 'instal-debt',\n",
       " 'interest',\n",
       " 'ipi',\n",
       " 'iron-steel',\n",
       " 'jet',\n",
       " 'jobs',\n",
       " 'l-cattle',\n",
       " 'lead',\n",
       " 'lei',\n",
       " 'lin-oil',\n",
       " 'livestock',\n",
       " 'lumber',\n",
       " 'meal-feed',\n",
       " 'money-fx',\n",
       " 'money-supply',\n",
       " 'naphtha',\n",
       " 'nat-gas',\n",
       " 'nickel',\n",
       " 'nkr',\n",
       " 'nzdlr',\n",
       " 'oat',\n",
       " 'oilseed',\n",
       " 'orange',\n",
       " 'palladium',\n",
       " 'palm-oil',\n",
       " 'palmkernel',\n",
       " 'pet-chem',\n",
       " 'platinum',\n",
       " 'potato',\n",
       " 'propane',\n",
       " 'rand',\n",
       " 'rape-oil',\n",
       " 'rapeseed',\n",
       " 'reserves',\n",
       " 'retail',\n",
       " 'rice',\n",
       " 'rubber',\n",
       " 'rye',\n",
       " 'ship',\n",
       " 'silver',\n",
       " 'sorghum',\n",
       " 'soy-meal',\n",
       " 'soy-oil',\n",
       " 'soybean',\n",
       " 'strategic-metal',\n",
       " 'sugar',\n",
       " 'sun-meal',\n",
       " 'sun-oil',\n",
       " 'sunseed',\n",
       " 'tea',\n",
       " 'tin',\n",
       " 'trade',\n",
       " 'veg-oil',\n",
       " 'wheat',\n",
       " 'wpi',\n",
       " 'yen',\n",
       " 'zinc']"
      ]
     },
     "execution_count": 79,
     "metadata": {},
     "output_type": "execute_result"
    }
   ],
   "source": [
    "reuters.categories()"
   ]
  },
  {
   "cell_type": "code",
   "execution_count": 80,
   "id": "fba1d045-481d-4705-8720-daab6ea2a23a",
   "metadata": {},
   "outputs": [
    {
     "data": {
      "text/plain": [
       "['barley', 'corn', 'grain', 'wheat']"
      ]
     },
     "execution_count": 80,
     "metadata": {},
     "output_type": "execute_result"
    }
   ],
   "source": [
    "reuters.categories('training/9865')"
   ]
  },
  {
   "cell_type": "code",
   "execution_count": 82,
   "id": "e394c055-2d0d-4d20-8e18-63e8e053cee3",
   "metadata": {},
   "outputs": [
    {
     "data": {
      "text/plain": [
       "['barley', 'corn', 'grain', 'money-fx', 'wheat']"
      ]
     },
     "execution_count": 82,
     "metadata": {},
     "output_type": "execute_result"
    }
   ],
   "source": [
    "reuters.categories(['training/9865', 'training/9880'])\n"
   ]
  },
  {
   "cell_type": "code",
   "execution_count": 84,
   "id": "6ca6dcdf-3bf7-4e57-a30b-a12902811bb5",
   "metadata": {},
   "outputs": [
    {
     "data": {
      "text/plain": [
       "['test/14832',\n",
       " 'test/14858',\n",
       " 'test/15033',\n",
       " 'test/15043',\n",
       " 'test/15106',\n",
       " 'test/15287',\n",
       " 'test/15341',\n",
       " 'test/15618',\n",
       " 'test/15648',\n",
       " 'test/15649']"
      ]
     },
     "execution_count": 84,
     "metadata": {},
     "output_type": "execute_result"
    }
   ],
   "source": [
    "reuters.fileids(['barley', 'corn'])[:10]"
   ]
  },
  {
   "cell_type": "code",
   "execution_count": 85,
   "id": "8a65d275-a8d2-49c8-897f-52e74cdd92cc",
   "metadata": {},
   "outputs": [
    {
     "data": {
      "text/plain": [
       "['FRENCH',\n",
       " 'FREE',\n",
       " 'MARKET',\n",
       " 'CEREAL',\n",
       " 'EXPORT',\n",
       " 'BIDS',\n",
       " 'DETAILED',\n",
       " 'French',\n",
       " 'operators',\n",
       " 'have',\n",
       " 'requested',\n",
       " 'licences',\n",
       " 'to',\n",
       " 'export']"
      ]
     },
     "execution_count": 85,
     "metadata": {},
     "output_type": "execute_result"
    }
   ],
   "source": [
    "reuters.words('training/9865')[:14]"
   ]
  },
  {
   "cell_type": "code",
   "execution_count": 86,
   "id": "359edab1-0bea-4015-b3f1-035745cb3155",
   "metadata": {},
   "outputs": [
    {
     "data": {
      "text/plain": [
       "['1789-Washington.txt',\n",
       " '1793-Washington.txt',\n",
       " '1797-Adams.txt',\n",
       " '1801-Jefferson.txt',\n",
       " '1805-Jefferson.txt',\n",
       " '1809-Madison.txt',\n",
       " '1813-Madison.txt',\n",
       " '1817-Monroe.txt',\n",
       " '1821-Monroe.txt',\n",
       " '1825-Adams.txt',\n",
       " '1829-Jackson.txt',\n",
       " '1833-Jackson.txt',\n",
       " '1837-VanBuren.txt',\n",
       " '1841-Harrison.txt',\n",
       " '1845-Polk.txt',\n",
       " '1849-Taylor.txt',\n",
       " '1853-Pierce.txt',\n",
       " '1857-Buchanan.txt',\n",
       " '1861-Lincoln.txt',\n",
       " '1865-Lincoln.txt',\n",
       " '1869-Grant.txt',\n",
       " '1873-Grant.txt',\n",
       " '1877-Hayes.txt',\n",
       " '1881-Garfield.txt',\n",
       " '1885-Cleveland.txt',\n",
       " '1889-Harrison.txt',\n",
       " '1893-Cleveland.txt',\n",
       " '1897-McKinley.txt',\n",
       " '1901-McKinley.txt',\n",
       " '1905-Roosevelt.txt',\n",
       " '1909-Taft.txt',\n",
       " '1913-Wilson.txt',\n",
       " '1917-Wilson.txt',\n",
       " '1921-Harding.txt',\n",
       " '1925-Coolidge.txt',\n",
       " '1929-Hoover.txt',\n",
       " '1933-Roosevelt.txt',\n",
       " '1937-Roosevelt.txt',\n",
       " '1941-Roosevelt.txt',\n",
       " '1945-Roosevelt.txt',\n",
       " '1949-Truman.txt',\n",
       " '1953-Eisenhower.txt',\n",
       " '1957-Eisenhower.txt',\n",
       " '1961-Kennedy.txt',\n",
       " '1965-Johnson.txt',\n",
       " '1969-Nixon.txt',\n",
       " '1973-Nixon.txt',\n",
       " '1977-Carter.txt',\n",
       " '1981-Reagan.txt',\n",
       " '1985-Reagan.txt',\n",
       " '1989-Bush.txt',\n",
       " '1993-Clinton.txt',\n",
       " '1997-Clinton.txt',\n",
       " '2001-Bush.txt',\n",
       " '2005-Bush.txt',\n",
       " '2009-Obama.txt',\n",
       " '2013-Obama.txt',\n",
       " '2017-Trump.txt',\n",
       " '2021-Biden.txt']"
      ]
     },
     "execution_count": 86,
     "metadata": {},
     "output_type": "execute_result"
    }
   ],
   "source": [
    "# 1.5 Inaugural address corpus\n",
    "from nltk.corpus import inaugural\n",
    "inaugural.fileids()"
   ]
  },
  {
   "cell_type": "code",
   "execution_count": 88,
   "id": "8ba094e1-579f-49d6-b8f2-5d31284121a3",
   "metadata": {},
   "outputs": [
    {
     "data": {
      "text/plain": [
       "[1788,\n",
       " 1792,\n",
       " 1796,\n",
       " 1800,\n",
       " 1804,\n",
       " 1808,\n",
       " 1812,\n",
       " 1816,\n",
       " 1820,\n",
       " 1824,\n",
       " 1828,\n",
       " 1832,\n",
       " 1836,\n",
       " 1840,\n",
       " 1844,\n",
       " 1848,\n",
       " 1852,\n",
       " 1856,\n",
       " 1860,\n",
       " 1864,\n",
       " 1868,\n",
       " 1872,\n",
       " 1876,\n",
       " 1880,\n",
       " 1884,\n",
       " 1888,\n",
       " 1892,\n",
       " 1896,\n",
       " 1900,\n",
       " 1904,\n",
       " 1908,\n",
       " 1912,\n",
       " 1916,\n",
       " 1920,\n",
       " 1924,\n",
       " 1928,\n",
       " 1932,\n",
       " 1936,\n",
       " 1940,\n",
       " 1944,\n",
       " 1948,\n",
       " 1952,\n",
       " 1956,\n",
       " 1960,\n",
       " 1964,\n",
       " 1968,\n",
       " 1972,\n",
       " 1976,\n",
       " 1980,\n",
       " 1984,\n",
       " 1988,\n",
       " 1992,\n",
       " 1996,\n",
       " 2000,\n",
       " 2004,\n",
       " 2008,\n",
       " 2012,\n",
       " 2016,\n",
       " 2020]"
      ]
     },
     "execution_count": 88,
     "metadata": {},
     "output_type": "execute_result"
    }
   ],
   "source": [
    "# get the election year\n",
    "# assumption: the address happens in JAN next-year of the election\n",
    "# and election happened NOV last-year\n",
    "[int(fileid[:4])-1 for fileid in inaugural.fileids()]"
   ]
  },
  {
   "cell_type": "code",
   "execution_count": 93,
   "id": "b658934d-65ff-406e-8b45-a323606176e6",
   "metadata": {},
   "outputs": [
    {
     "data": {
      "text/plain": [
       "['Chief', 'Justice', 'Roberts', ',', 'Vice', ...]"
      ]
     },
     "execution_count": 93,
     "metadata": {},
     "output_type": "execute_result"
    }
   ],
   "source": [
    "inaugural.words('2021-Biden.txt')\n",
    "# inaugural.raw('2021-Biden.txt')\n",
    "# print(inaugural.raw('2021-Biden.txt'))"
   ]
  },
  {
   "cell_type": "code",
   "execution_count": 99,
   "id": "5896f927-6f2d-45e5-b062-585a41aba1eb",
   "metadata": {},
   "outputs": [
    {
     "data": {
      "image/png": "[encoded data removed]",
      "text/plain": [
       "<Figure size 640x480 with 1 Axes>"
      ]
     },
     "metadata": {},
     "output_type": "display_data"
    },
    {
     "data": {
      "text/plain": [
       "<Axes: xlabel='Samples', ylabel='Counts'>"
      ]
     },
     "execution_count": 99,
     "metadata": {},
     "output_type": "execute_result"
    }
   ],
   "source": [
    "\n",
    "cfd = nltk.ConditionalFreqDist(\n",
    "    (target, int(fileid[:4]))\n",
    "    for fileid in inaugural.fileids()\n",
    "    for w in inaugural.words(fileid)\n",
    "    for target in ['america', 'citizen', 'love', 'freedom', 'hate', 'peace']\n",
    "    if w.lower().startswith(target)\n",
    ")\n",
    "cfd.plot()"
   ]
  },
  {
   "cell_type": "code",
   "execution_count": 100,
   "id": "3ac523c9-9ba3-4c1d-9477-8388084874e5",
   "metadata": {},
   "outputs": [],
   "source": [
    "#1.8 Text Corpus Structure\n",
    "\n",
    "# 1.9 loading your own corpus"
   ]
  },
  {
   "cell_type": "code",
   "execution_count": null,
   "id": "5ef9296e-8dc5-4489-8cce-bc292f310fb3",
   "metadata": {},
   "outputs": [],
   "source": [
    "# 2 Conditional Frequency Distributions\n"
   ]
  }
 ],
 "metadata": {
  "kernelspec": {
   "display_name": "Python 3 (ipykernel)",
   "language": "python",
   "name": "python3"
  },
  "language_info": {
   "codemirror_mode": {
    "name": "ipython",
    "version": 3
   },
   "file_extension": ".py",
   "mimetype": "text/x-python",
   "name": "python",
   "nbconvert_exporter": "python",
   "pygments_lexer": "ipython3",
   "version": "3.11.2"
  }
 },
 "nbformat": 4,
 "nbformat_minor": 5
}
